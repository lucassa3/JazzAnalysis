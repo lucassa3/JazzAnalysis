{
 "cells": [
  {
   "cell_type": "code",
   "execution_count": 1,
   "metadata": {},
   "outputs": [
    {
     "data": {
      "text/html": [
       "<script>requirejs.config({paths: { 'plotly': ['https://cdn.plot.ly/plotly-latest.min']},});if(!window.Plotly) {{require(['plotly'],function(plotly) {window.Plotly=plotly;});}}</script>"
      ],
      "text/vnd.plotly.v1+html": [
       "<script>requirejs.config({paths: { 'plotly': ['https://cdn.plot.ly/plotly-latest.min']},});if(!window.Plotly) {{require(['plotly'],function(plotly) {window.Plotly=plotly;});}}</script>"
      ]
     },
     "metadata": {},
     "output_type": "display_data"
    }
   ],
   "source": [
    "import socnet as sn\n",
    "import random\n",
    "import math\n",
    "import matplotlib.pyplot as plt\n",
    "%matplotlib inline"
   ]
  },
  {
   "cell_type": "code",
   "execution_count": 22,
   "metadata": {},
   "outputs": [],
   "source": [
    "#calculate number of musicians and sessions p/ year\n",
    "years = ['1953', '1954', '1955', '1956', '1957', '1958', '1959', '1960', '1961', '1962', '1963', '1964', '1965', '1966', '1967', '1968']\n",
    "\n",
    "total_musicians = []\n",
    "total_sessions = []\n",
    "\n",
    "for y in years:\n",
    "    g = sn.load_graph('graphs/'+y+'.gml')\n",
    "    \n",
    "    total_musicians.append(g.number_of_nodes())\n",
    "    total_sessions.append(g.number_of_edges())"
   ]
  },
  {
   "cell_type": "code",
   "execution_count": 31,
   "metadata": {},
   "outputs": [
    {
     "name": "stdout",
     "output_type": "stream",
     "text": [
      "[19, 37, 31, 70, 67, 45, 57, 38, 68, 47, 37, 44, 37, 36, 100, 31]\n"
     ]
    }
   ],
   "source": [
    "#calculate number of innovations p/ year\n",
    "total_innovations = []\n",
    "\n",
    "for y in years:\n",
    "    s = 0\n",
    "    \n",
    "    for line in open('innovations.txt'):\n",
    "        if line in open('sessions/'+y+'.txt'):\n",
    "            s+=1\n",
    "    \n",
    "    total_innovations.append(s)\n",
    "\n",
    "    \n",
    "print(total_innovations)\n",
    "\n",
    "            "
   ]
  },
  {
   "cell_type": "code",
   "execution_count": 33,
   "metadata": {
    "collapsed": true
   },
   "outputs": [
    {
     "name": "stdout",
     "output_type": "stream",
     "text": [
      "16\n",
      "16\n"
     ]
    }
   ],
   "source": [
    "#calculate number of innovations percentage p/ year\n",
    "pc_total_innovations = []\n",
    "\n",
    "print(len(total_sessions))\n",
    "print(len(total_innovations))\n",
    "\n",
    "for i in range(0,len(total_innovations)-1):\n",
    "    pc_total_innovations.append(total_innovations[i]/total_sessions[i])\n",
    "\n",
    "    "
   ]
  },
  {
   "cell_type": "code",
   "execution_count": 37,
   "metadata": {},
   "outputs": [
    {
     "data": {
      "image/png": "[encoded data removed]",
      "text/plain": [
       "<matplotlib.figure.Figure at 0x2765cdd8828>"
      ]
     },
     "metadata": {},
     "output_type": "display_data"
    }
   ],
   "source": [
    "plt.plot(years, total_sessions)\n",
    "plt.xlabel(\"anos\")\n",
    "plt.ylabel(\"qtde. de músicos\")\n",
    "plt.show()"
   ]
  },
  {
   "cell_type": "code",
   "execution_count": null,
   "metadata": {
    "collapsed": true
   },
   "outputs": [],
   "source": []
  },
  {
   "cell_type": "code",
   "execution_count": null,
   "metadata": {
    "collapsed": true
   },
   "outputs": [],
   "source": []
  }
 ],
 "metadata": {
  "kernelspec": {
   "display_name": "Python 3",
   "language": "python",
   "name": "python3"
  },
  "language_info": {
   "codemirror_mode": {
    "name": "ipython",
    "version": 3
   },
   "file_extension": ".py",
   "mimetype": "text/x-python",
   "name": "python",
   "nbconvert_exporter": "python",
   "pygments_lexer": "ipython3",
   "version": "3.6.3"
  }
 },
 "nbformat": 4,
 "nbformat_minor": 2
}
