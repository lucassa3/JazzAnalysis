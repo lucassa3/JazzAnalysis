{
 "cells": [
  {
   "cell_type": "code",
   "execution_count": null,
   "metadata": {},
   "outputs": [],
   "source": [
    "import socnet as sn\n",
    "import random\n",
    "import math\n",
    "import matplotlib.pyplot as plt\n",
    "\n",
    "%matplotlib inline"
   ]
  },
  {
   "cell_type": "code",
   "execution_count": null,
   "metadata": {},
   "outputs": [],
   "source": [
    "#calculate number of musicians and sessions p/ year\n",
    "\n",
    "years = ['1953', '1954', '1955', '1956', '1957', '1958', '1959', '1960', '1961', '1962', '1963', '1964', '1965', '1966', '1967', '1968']\n",
    "\n",
    "total_musicians = []\n",
    "total_sessions = []\n",
    "\n",
    "for y in years:\n",
    "    g = sn.load_graph('graphs/'+y+'.gml')\n",
    "    \n",
    "    total_musicians.append(g.number_of_nodes())\n",
    "    total_sessions.append(g.number_of_edges())"
   ]
  },
  {
   "cell_type": "code",
   "execution_count": null,
   "metadata": {},
   "outputs": [],
   "source": [
    "#calculate number of innovations p/ year\n",
    "\n",
    "total_innovations = []\n",
    "\n",
    "for y in years:\n",
    "    s = 0\n",
    "    \n",
    "    for line in open('innovations.txt'):\n",
    "        if line in open('sessions/'+y+'.txt'):\n",
    "            s+=1\n",
    "    \n",
    "    total_innovations.append(s)            "
   ]
  },
  {
   "cell_type": "code",
   "execution_count": null,
   "metadata": {},
   "outputs": [],
   "source": [
    "#calculate number of innovations percentage p/ year\n",
    "\n",
    "pc_total_innovations = []\n",
    "\n",
    "for i in range(0,len(total_innovations)-1):\n",
    "    pc_total_innovations.append(total_innovations[i]/total_sessions[i]) "
   ]
  },
  {
   "cell_type": "code",
   "execution_count": null,
   "metadata": {
    "scrolled": true
   },
   "outputs": [],
   "source": [
    "plt.plot(years, total_sessions)\n",
    "plt.xlabel(\"anos\")\n",
    "plt.ylabel(\"qtde. de músicos\")\n",
    "plt.show()"
   ]
  },
  {
   "cell_type": "code",
   "execution_count": null,
   "metadata": {
    "collapsed": true
   },
   "outputs": [],
   "source": []
  },
  {
   "cell_type": "code",
   "execution_count": null,
   "metadata": {
    "collapsed": true
   },
   "outputs": [],
   "source": []
  }
 ],
 "metadata": {
  "kernelspec": {
   "display_name": "Python 3",
   "language": "python",
   "name": "python3"
  },
  "language_info": {
   "codemirror_mode": {
    "name": "ipython",
    "version": 3
   },
   "file_extension": ".py",
   "mimetype": "text/x-python",
   "name": "python",
   "nbconvert_exporter": "python",
   "pygments_lexer": "ipython3",
   "version": "3.6.3"
  }
 },
 "nbformat": 4,
 "nbformat_minor": 2
}
